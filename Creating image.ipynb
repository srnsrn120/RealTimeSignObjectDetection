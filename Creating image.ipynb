{
 "cells": [
  {
   "cell_type": "code",
   "execution_count": 1,
   "id": "594c7d9f",
   "metadata": {},
   "outputs": [
    {
     "name": "stdout",
     "output_type": "stream",
     "text": [
      "Requirement already satisfied: opencv-python in c:\\programdata\\anaconda3\\lib\\site-packages (4.5.5.62)\n",
      "Requirement already satisfied: numpy>=1.17.3 in c:\\programdata\\anaconda3\\lib\\site-packages (from opencv-python) (1.20.1)\n"
     ]
    }
   ],
   "source": [
    "!pip install opencv-python\n",
    "import cv2\n",
    "import os\n",
    "import time\n",
    "import uuid"
   ]
  },
  {
   "cell_type": "code",
   "execution_count": 2,
   "id": "fcd028ba",
   "metadata": {},
   "outputs": [],
   "source": [
    "IMAGE_PATH='Tensorflow\\workspace\\images\\Collected_image'"
   ]
  },
  {
   "cell_type": "code",
   "execution_count": 3,
   "id": "3ea04eec",
   "metadata": {},
   "outputs": [],
   "source": [
    "labels=['hello','thanks']\n",
    "number_image=15"
   ]
  },
  {
   "cell_type": "code",
   "execution_count": null,
   "id": "5f984dc9",
   "metadata": {},
   "outputs": [],
   "source": []
  },
  {
   "cell_type": "code",
   "execution_count": 4,
   "id": "c6f0e1a9",
   "metadata": {},
   "outputs": [
    {
     "data": {
      "text/plain": [
       "['hello', 'label']"
      ]
     },
     "execution_count": 4,
     "metadata": {},
     "output_type": "execute_result"
    }
   ],
   "source": [
    "os.listdir('\\Tensorflow\\workspace\\images\\Colloectedimage')"
   ]
  },
  {
   "cell_type": "code",
   "execution_count": 5,
   "id": "b7bf609e",
   "metadata": {},
   "outputs": [
    {
     "name": "stdout",
     "output_type": "stream",
     "text": [
      "collecting image for hello\n",
      "Tensorflow\\workspace\\images\\Collected_image_hello +e9651298-704b-11ec-a923-8c1645ce8618 +.jpg\n",
      "Tensorflow\\workspace\\images\\Collected_image_hello +ec6c7d03-704b-11ec-a40b-8c1645ce8618 +.jpg\n",
      "Tensorflow\\workspace\\images\\Collected_image_hello +ef7fdd0c-704b-11ec-8699-8c1645ce8618 +.jpg\n",
      "Tensorflow\\workspace\\images\\Collected_image_hello +f27e5877-704b-11ec-a786-8c1645ce8618 +.jpg\n",
      "Tensorflow\\workspace\\images\\Collected_image_hello +f57d255e-704b-11ec-ab39-8c1645ce8618 +.jpg\n",
      "Tensorflow\\workspace\\images\\Collected_image_hello +f87b5533-704b-11ec-8497-8c1645ce8618 +.jpg\n",
      "Tensorflow\\workspace\\images\\Collected_image_hello +fb797728-704b-11ec-b36f-8c1645ce8618 +.jpg\n",
      "Tensorflow\\workspace\\images\\Collected_image_hello +fe77b5f1-704b-11ec-ba18-8c1645ce8618 +.jpg\n",
      "Tensorflow\\workspace\\images\\Collected_image_hello +0177fa6f-704c-11ec-9402-8c1645ce8618 +.jpg\n",
      "Tensorflow\\workspace\\images\\Collected_image_hello +0476b9d7-704c-11ec-8cce-8c1645ce8618 +.jpg\n",
      "Tensorflow\\workspace\\images\\Collected_image_hello +07755a34-704c-11ec-a477-8c1645ce8618 +.jpg\n",
      "Tensorflow\\workspace\\images\\Collected_image_hello +0a74bea8-704c-11ec-b17d-8c1645ce8618 +.jpg\n",
      "Tensorflow\\workspace\\images\\Collected_image_hello +0d73e23a-704c-11ec-b61e-8c1645ce8618 +.jpg\n",
      "Tensorflow\\workspace\\images\\Collected_image_hello +1072a4c5-704c-11ec-ac67-8c1645ce8618 +.jpg\n",
      "Tensorflow\\workspace\\images\\Collected_image_hello +13710cd2-704c-11ec-b96b-8c1645ce8618 +.jpg\n",
      "collecting image for thanks\n",
      "Tensorflow\\workspace\\images\\Collected_image_thanks +263572ba-704c-11ec-993c-8c1645ce8618 +.jpg\n",
      "Tensorflow\\workspace\\images\\Collected_image_thanks +2933a1bd-704c-11ec-a50a-8c1645ce8618 +.jpg\n",
      "Tensorflow\\workspace\\images\\Collected_image_thanks +2c32d528-704c-11ec-9219-8c1645ce8618 +.jpg\n",
      "Tensorflow\\workspace\\images\\Collected_image_thanks +2f30c6de-704c-11ec-ba89-8c1645ce8618 +.jpg\n",
      "Tensorflow\\workspace\\images\\Collected_image_thanks +32302f9f-704c-11ec-9611-8c1645ce8618 +.jpg\n",
      "Tensorflow\\workspace\\images\\Collected_image_thanks +352ecf01-704c-11ec-95c8-8c1645ce8618 +.jpg\n",
      "Tensorflow\\workspace\\images\\Collected_image_thanks +382d5d2d-704c-11ec-8a93-8c1645ce8618 +.jpg\n",
      "Tensorflow\\workspace\\images\\Collected_image_thanks +3b2c0bb8-704c-11ec-8525-8c1645ce8618 +.jpg\n",
      "Tensorflow\\workspace\\images\\Collected_image_thanks +3e2a6299-704c-11ec-8aa1-8c1645ce8618 +.jpg\n",
      "Tensorflow\\workspace\\images\\Collected_image_thanks +412a41e4-704c-11ec-8106-8c1645ce8618 +.jpg\n",
      "Tensorflow\\workspace\\images\\Collected_image_thanks +4427bd9a-704c-11ec-ad92-8c1645ce8618 +.jpg\n",
      "Tensorflow\\workspace\\images\\Collected_image_thanks +4726f051-704c-11ec-9c12-8c1645ce8618 +.jpg\n",
      "Tensorflow\\workspace\\images\\Collected_image_thanks +4a269d72-704c-11ec-85b5-8c1645ce8618 +.jpg\n",
      "Tensorflow\\workspace\\images\\Collected_image_thanks +4d2490cf-704c-11ec-b78f-8c1645ce8618 +.jpg\n",
      "Tensorflow\\workspace\\images\\Collected_image_thanks +5023fd8f-704c-11ec-bd30-8c1645ce8618 +.jpg\n"
     ]
    }
   ],
   "source": [
    "for label in labels:\n",
    "#     !mkdir {'\\Tensorflow\\workspace\\images\\ColloectedImage'}\n",
    "    cap=cv2.VideoCapture(0)\n",
    "    print(f\"collecting image for {label}\")\n",
    "    time.sleep(20)\n",
    "    for imgnum in range(number_image):\n",
    "        ret,frame=cap.read()\n",
    "        #print(frame)\n",
    "        imageName= os.path.join(f\"{IMAGE_PATH}_{label} +{str(uuid.uuid1())} +.jpg\")\n",
    "        print(imageName)\n",
    "        cv2.imwrite(imageName,frame)\n",
    "        cv2.imshow('frame',frame)\n",
    "        time.sleep(5)\n",
    "        \n",
    "        if cv2.waitKey(1) & 0xFF == ord('q'):\n",
    "            break\n",
    "    cap.release()\n",
    "        \n",
    "            \n",
    "                                \n",
    "                                "
   ]
  },
  {
   "cell_type": "code",
   "execution_count": null,
   "id": "6a2616fe",
   "metadata": {},
   "outputs": [],
   "source": []
  }
 ],
 "metadata": {
  "kernelspec": {
   "display_name": "Python 3",
   "language": "python",
   "name": "python3"
  },
  "language_info": {
   "codemirror_mode": {
    "name": "ipython",
    "version": 3
   },
   "file_extension": ".py",
   "mimetype": "text/x-python",
   "name": "python",
   "nbconvert_exporter": "python",
   "pygments_lexer": "ipython3",
   "version": "3.8.8"
  }
 },
 "nbformat": 4,
 "nbformat_minor": 5
}
